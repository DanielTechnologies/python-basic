{
  "nbformat": 4,
  "nbformat_minor": 0,
  "metadata": {
    "colab": {
      "provenance": [],
      "authorship_tag": "ABX9TyMTG/9GaUXf3aJaQicDUfj9",
      "include_colab_link": true
    },
    "kernelspec": {
      "name": "python3",
      "display_name": "Python 3"
    },
    "language_info": {
      "name": "python"
    }
  },
  "cells": [
    {
      "cell_type": "markdown",
      "metadata": {
        "id": "view-in-github",
        "colab_type": "text"
      },
      "source": [
        "<a href=\"https://colab.research.google.com/github/DanielTechnologies/python-basic/blob/main/Minor_Assignment_Introduction_to_Python_.ipynb\" target=\"_parent\"><img src=\"https://colab.research.google.com/assets/colab-badge.svg\" alt=\"Open In Colab\"/></a>"
      ]
    },
    {
      "cell_type": "code",
      "execution_count": null,
      "metadata": {
        "colab": {
          "base_uri": "https://localhost:8080/"
        },
        "id": "-HwM2wxgcRc4",
        "outputId": "9525a80e-9982-4427-aaaf-79f535a76cae"
      },
      "outputs": [
        {
          "output_type": "stream",
          "name": "stdout",
          "text": [
            "Python version: 3.11.13 (main, Jun  4 2025, 08:57:29) [GCC 11.4.0]\n"
          ]
        }
      ],
      "source": [
        "import sys\n",
        "print(f\"Python version: {sys.version}\")"
      ]
    },
    {
      "cell_type": "code",
      "source": [
        "import pandas as pd\n",
        "print(f\"pandas version: {pd.__version__}\")\n"
      ],
      "metadata": {
        "colab": {
          "base_uri": "https://localhost:8080/"
        },
        "id": "70ay3M6ofSgQ",
        "outputId": "e8bad71a-2612-44a0-f906-3cde287fc3be"
      },
      "execution_count": null,
      "outputs": [
        {
          "output_type": "stream",
          "name": "stdout",
          "text": [
            "pandas version: 2.2.2\n"
          ]
        }
      ]
    },
    {
      "cell_type": "code",
      "source": [
        "# Variables\n",
        "product_name = \"Laptop\"\n",
        "product_price = 99.99\n",
        "is_in_stock = True\n",
        "stock_quantity = 60\n",
        "\n",
        "product_details = f\"Product: {product_name}, Price: ${product_price:.2f}, In Stock: {is_in_stock}, Quantity: {stock_quantity}\"\n",
        "# Expressions\n",
        "inventory_value = product_price * stock_quantity\n",
        "discounted_price = product_price * 0.84  # 15% discount\n",
        "is_affordable_and_in_stock = is_in_stock and product_price < 100\n",
        "\n",
        "\n",
        "# Output for verification\n",
        "print(f\"Inventory Value: ${inventory_value:.2f}\")\n",
        "print(f\"Discounted Price: ${discounted_price:.2f}\")\n",
        "print(f\"Affordable and In Stock: {is_affordable_and_in_stock}\")\n",
        "print(product_details)"
      ],
      "metadata": {
        "colab": {
          "base_uri": "https://localhost:8080/"
        },
        "id": "jhh3Y9emheFX",
        "outputId": "76102982-a6cb-4cc3-c687-016366f0e22b"
      },
      "execution_count": null,
      "outputs": [
        {
          "output_type": "stream",
          "name": "stdout",
          "text": [
            "Inventory Value: $5999.40\n",
            "Discounted Price: $83.99\n",
            "Affordable and In Stock: True\n",
            "Product: Laptop, Price: $99.99, In Stock: True, Quantity: 60\n"
          ]
        }
      ]
    },
    {
      "cell_type": "code",
      "source": [
        "#Create a list of at least 5 products with their prices\n",
        "products =[\n",
        "    {\"name\": \"Laptop\", \"price\": 99.99},\n",
        "    {\"name\": \"Smartphone\", \"price\": 49.95},\n",
        "    {\"name\": \"Tablet\", \"price\": 39.99},\n",
        "    {\"name\": \"mouse\", \"price\": 56.65},\n",
        "    {\"name\": \"monitor\", \"price\": 199.99}]\n",
        "\n",
        "\n",
        "print(f\"Products: {products}\")\n",
        "print(f\"Product Names: {[product['name'] for product in products]}\")\n",
        "\n",
        "#dictionary for a single product\n",
        "single_product={\n",
        "    \"id\": 1,\n",
        "    \"name\": \"laptop\",\n",
        "    \"price\": 99.99,\n",
        "    \"category\": \"Electronics\",\n",
        "    \"in_stock\": True,\n",
        "    \"features\":[\"32GB RAM, 500GB ROM, 13 INCHES, WINDOWS 11PRO\"]\n",
        "}\n",
        "print(single_product)\n",
        "\n",
        "#Using the list of products\n",
        "#Most expensive products\n",
        "most_expensive = max(products, key=lambda x: x[\"price\"])\n",
        "print(f\"Most Expensive Product: {most_expensive['name']} - ${most_expensive['price']:.2f}\")\n",
        "\n",
        "\n",
        "#Calculating the average price\n",
        "average_price = sum(product[\"price\"] for product in products) / len(products)\n",
        "print(f\"Average Price: ${average_price:.2f}\")\n",
        "\n",
        "# New list containing only products under $50\n",
        "affordable_products = [product for product in products if product[\"price\"] < 50]\n",
        "print(f\"Affordable Products: {[product['name'] for product in affordable_products]}\")\n",
        "\n",
        "\n",
        "# a new key for discount_price that's 10% off the original price\n",
        "\n",
        "single_product[\"discount_price\"] = single_product[\"price\"] * 0.9\n",
        "\n",
        "#new feature to the features list\n",
        "single_product[\"features\"].append(\"360 screen\")\n",
        "print(single_product)\n",
        "\n",
        "# formatted string that describes the product\n",
        "product_description= (\n",
        " f\"Product ID: {single_product['id']}\\n\"\n",
        "    f\"Name: {single_product['name']}\\n\"\n",
        "    f\"Category: {single_product['category']}\\n\"\n",
        "    f\"Price: ${single_product['price']:.2f}\\n\"\n",
        "    f\"Discount Price: ${single_product['discount_price']:.2f}\\n\"\n",
        "    f\"In Stock: {single_product['in_stock']}\\n\"\n",
        "    f\"Features: {', '.join(single_product['features'])}\")\n",
        "print(\"\\nProduct Description:\")\n",
        "print(product_description)\n"
      ],
      "metadata": {
        "colab": {
          "base_uri": "https://localhost:8080/"
        },
        "id": "CTf3azTtnYKh",
        "outputId": "af3f48da-89a7-41c3-c468-7208d10e1e8a"
      },
      "execution_count": 17,
      "outputs": [
        {
          "output_type": "stream",
          "name": "stdout",
          "text": [
            "Products: [{'name': 'Laptop', 'price': 99.99}, {'name': 'Smartphone', 'price': 49.95}, {'name': 'Tablet', 'price': 39.99}, {'name': 'mouse', 'price': 56.65}, {'name': 'monitor', 'price': 199.99}]\n",
            "Product Names: ['Laptop', 'Smartphone', 'Tablet', 'mouse', 'monitor']\n",
            "{'id': 1, 'name': 'laptop', 'price': 99.99, 'category': 'Electronics', 'in_stock': True, 'features': ['32GB RAM, 500GB ROM, 13 INCHES, WINDOWS 11PRO']}\n",
            "Most Expensive Product: monitor - $199.99\n",
            "Average Price: $89.31\n",
            "Affordable Products: ['Smartphone', 'Tablet']\n",
            "{'id': 1, 'name': 'laptop', 'price': 99.99, 'category': 'Electronics', 'in_stock': True, 'features': ['32GB RAM, 500GB ROM, 13 INCHES, WINDOWS 11PRO', '360 screen'], 'discount_price': 89.991}\n",
            "\n",
            "Product Description:\n",
            "Product ID: 1\n",
            "Name: laptop\n",
            "Category: Electronics\n",
            "Price: $99.99\n",
            "Discount Price: $89.99\n",
            "In Stock: True\n",
            "Features: 32GB RAM, 500GB ROM, 13 INCHES, WINDOWS 11PRO, 360 screen\n"
          ]
        }
      ]
    },
    {
      "cell_type": "code",
      "source": [
        "# calculating total price\n",
        "def calculate_total_price (price, quantity, tax_rate=0.08):\n",
        " subtotal = price * quantity\n",
        " tax_amount = subtotal * tax_rate\n",
        " total_price = subtotal + tax_amount\n",
        " return total_price\n",
        "\n",
        " # Test your function with at least 3 different scenarios\n",
        "print(\"Testing calculate_total_price:\")\n",
        "print(f\" Test 1: ${calculate_total_price(40.00, 2, 0.08):.2f}\")  # Price: $50, Qty: 2, 0.08\n",
        "print(f\" Test 2: ${calculate_total_price(25.99, 5, 0.08):.2f}\")  # Price: $25.99, Qty: 5, 0.08\n",
        "print(f\" Test 3: ${calculate_total_price(999.99, 1, 0.08):.2f}\")  # Price: $999.99, Qty: 1, 0.08 tax\n",
        "print()\n",
        "\n",
        "#Write a function called analyze_sales(products_data)\n",
        "products_data =[\n",
        "    {\"name\": \"Laptop\", \"price\": 99.99},\n",
        "    {\"name\": \"Smartphone\", \"price\": 49.95},\n",
        "    {\"name\": \"Tablet\", \"price\": 39.99},\n",
        "    {\"name\": \"mouse\", \"price\": 56.65},\n",
        "    {\"name\": \"monitor\", \"price\": 199.99}]\n",
        "\n",
        "print(\"Analysis of product_data:\")\n",
        "# Groups products by category\n"
      ],
      "metadata": {
        "colab": {
          "base_uri": "https://localhost:8080/"
        },
        "id": "RQ4_SeqJVAqh",
        "outputId": "316be9cb-53a0-4316-b3d7-321fc1802867"
      },
      "execution_count": 29,
      "outputs": [
        {
          "output_type": "stream",
          "name": "stdout",
          "text": [
            "Testing calculate_total_price:\n",
            " Test 1: $86.40\n",
            " Test 2: $140.35\n",
            " Test 3: $1079.99\n",
            "\n",
            "Analysis of product_data:\n"
          ]
        }
      ]
    },
    {
      "cell_type": "code",
      "source": [
        " # SQL to Python Translation\n",
        ""
      ],
      "metadata": {
        "id": "eddDykqEeg_3"
      },
      "execution_count": null,
      "outputs": []
    }
  ]
}